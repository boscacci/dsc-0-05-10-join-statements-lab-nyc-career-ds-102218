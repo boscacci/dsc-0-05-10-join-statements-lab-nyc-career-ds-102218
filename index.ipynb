{
 "cells": [
  {
   "cell_type": "markdown",
   "metadata": {},
   "source": [
    "# Join Statements"
   ]
  },
  {
   "cell_type": "markdown",
   "metadata": {},
   "source": [
    "## Introduction"
   ]
  },
  {
   "cell_type": "markdown",
   "metadata": {},
   "source": [
    "In this lab, you'll practice your knowledge on Join statements."
   ]
  },
  {
   "cell_type": "markdown",
   "metadata": {},
   "source": [
    "## Objectives"
   ]
  },
  {
   "cell_type": "markdown",
   "metadata": {},
   "source": [
    "You will be able to:\n",
    "- Write queries that make use of various types of Joins\n",
    "- Join tables using foreign keys"
   ]
  },
  {
   "cell_type": "markdown",
   "metadata": {},
   "source": [
    "## CRM Schema\n",
    "\n",
    "In almost all cases, rather then just working with a single table we will typically need data from multiple tables. \n",
    "Doing this requires the use of **joins ** using shared columns from the two tables. \n",
    "\n",
    "In this lab, we'll use the same Customer Relationship Management (CRM) database we used in our lecture before!\n",
    "<img src='Database-Schema.png' width=550>"
   ]
  },
  {
   "cell_type": "markdown",
   "metadata": {},
   "source": [
    "## Connecting to the Database\n",
    "Import the necessary packages and connect to the database **data.sqlite**."
   ]
  },
  {
   "cell_type": "code",
   "execution_count": 15,
   "metadata": {},
   "outputs": [],
   "source": [
    "import sqlite3\n",
    "import pandas as pd"
   ]
  },
  {
   "cell_type": "code",
   "execution_count": 24,
   "metadata": {},
   "outputs": [],
   "source": [
    "conn = sqlite3.connect('data.sqlite', detect_types=sqlite3.PARSE_COLNAMES)\n",
    "cur = conn.cursor()\n",
    "def run_sql(sql):\n",
    "    df = pd.DataFrame(cur.execute(sql).fetchall())\n",
    "    df.columns = [i[0] for i in cur.description]\n",
    "    return df"
   ]
  },
  {
   "cell_type": "code",
   "execution_count": 25,
   "metadata": {},
   "outputs": [],
   "source": [
    "# run_sql('''SELECT * FROM employees''')"
   ]
  },
  {
   "cell_type": "markdown",
   "metadata": {},
   "source": [
    "## Display the names of all the employees in Boston."
   ]
  },
  {
   "cell_type": "code",
   "execution_count": 26,
   "metadata": {},
   "outputs": [
    {
     "data": {
      "text/html": [
       "<div>\n",
       "<style scoped>\n",
       "    .dataframe tbody tr th:only-of-type {\n",
       "        vertical-align: middle;\n",
       "    }\n",
       "\n",
       "    .dataframe tbody tr th {\n",
       "        vertical-align: top;\n",
       "    }\n",
       "\n",
       "    .dataframe thead th {\n",
       "        text-align: right;\n",
       "    }\n",
       "</style>\n",
       "<table border=\"1\" class=\"dataframe\">\n",
       "  <thead>\n",
       "    <tr style=\"text-align: right;\">\n",
       "      <th></th>\n",
       "      <th>employeeNumber</th>\n",
       "      <th>lastName</th>\n",
       "      <th>firstName</th>\n",
       "      <th>extension</th>\n",
       "      <th>email</th>\n",
       "      <th>officeCode</th>\n",
       "      <th>reportsTo</th>\n",
       "      <th>jobTitle</th>\n",
       "    </tr>\n",
       "  </thead>\n",
       "  <tbody>\n",
       "    <tr>\n",
       "      <th>0</th>\n",
       "      <td>1188</td>\n",
       "      <td>Firrelli</td>\n",
       "      <td>Julie</td>\n",
       "      <td>x2173</td>\n",
       "      <td>jfirrelli@classicmodelcars.com</td>\n",
       "      <td>2</td>\n",
       "      <td>1143</td>\n",
       "      <td>Sales Rep</td>\n",
       "    </tr>\n",
       "    <tr>\n",
       "      <th>1</th>\n",
       "      <td>1216</td>\n",
       "      <td>Patterson</td>\n",
       "      <td>Steve</td>\n",
       "      <td>x4334</td>\n",
       "      <td>spatterson@classicmodelcars.com</td>\n",
       "      <td>2</td>\n",
       "      <td>1143</td>\n",
       "      <td>Sales Rep</td>\n",
       "    </tr>\n",
       "  </tbody>\n",
       "</table>\n",
       "</div>"
      ],
      "text/plain": [
       "  employeeNumber   lastName firstName extension  \\\n",
       "0           1188   Firrelli     Julie     x2173   \n",
       "1           1216  Patterson     Steve     x4334   \n",
       "\n",
       "                             email officeCode reportsTo   jobTitle  \n",
       "0   jfirrelli@classicmodelcars.com          2      1143  Sales Rep  \n",
       "1  spatterson@classicmodelcars.com          2      1143  Sales Rep  "
      ]
     },
     "execution_count": 26,
     "metadata": {},
     "output_type": "execute_result"
    }
   ],
   "source": [
    "run_sql('''SELECT * FROM employees WHERE officeCode = '2';''')"
   ]
  },
  {
   "cell_type": "markdown",
   "metadata": {},
   "source": [
    "## Do any offices have no employees?"
   ]
  },
  {
   "cell_type": "code",
   "execution_count": 33,
   "metadata": {},
   "outputs": [],
   "source": [
    "# run_sql('''SELECT * FROM employees\n",
    "#                     JOIN offices\n",
    "#                     USING (officeCode)\n",
    "#                     GROUP BY officeCode\n",
    "#                     ORDER BY officeCode''')"
   ]
  },
  {
   "cell_type": "markdown",
   "metadata": {},
   "source": [
    "## Write 3 Questions of your own and answer them"
   ]
  },
  {
   "cell_type": "code",
   "execution_count": 34,
   "metadata": {},
   "outputs": [],
   "source": [
    "# Answers will vary"
   ]
  },
  {
   "cell_type": "code",
   "execution_count": 35,
   "metadata": {},
   "outputs": [],
   "source": [
    "# Your code here"
   ]
  },
  {
   "cell_type": "code",
   "execution_count": 36,
   "metadata": {},
   "outputs": [],
   "source": [
    "# Your code here"
   ]
  },
  {
   "cell_type": "code",
   "execution_count": 37,
   "metadata": {},
   "outputs": [],
   "source": [
    "# Your code here"
   ]
  },
  {
   "cell_type": "markdown",
   "metadata": {},
   "source": [
    "## Level Up: Display the names of each product each employee has sold."
   ]
  },
  {
   "cell_type": "code",
   "execution_count": 51,
   "metadata": {},
   "outputs": [
    {
     "data": {
      "text/html": [
       "<div>\n",
       "<style scoped>\n",
       "    .dataframe tbody tr th:only-of-type {\n",
       "        vertical-align: middle;\n",
       "    }\n",
       "\n",
       "    .dataframe tbody tr th {\n",
       "        vertical-align: top;\n",
       "    }\n",
       "\n",
       "    .dataframe thead th {\n",
       "        text-align: right;\n",
       "    }\n",
       "</style>\n",
       "<table border=\"1\" class=\"dataframe\">\n",
       "  <thead>\n",
       "    <tr style=\"text-align: right;\">\n",
       "      <th></th>\n",
       "      <th>Emp_Fname</th>\n",
       "      <th>Emp_Lname</th>\n",
       "      <th>customerName</th>\n",
       "      <th>customerNumber</th>\n",
       "      <th>orderNumber</th>\n",
       "      <th>productCode</th>\n",
       "    </tr>\n",
       "  </thead>\n",
       "  <tbody>\n",
       "    <tr>\n",
       "      <th>0</th>\n",
       "      <td>Leslie</td>\n",
       "      <td>Jennings</td>\n",
       "      <td>Signal Collectibles Ltd.</td>\n",
       "      <td>487</td>\n",
       "      <td>10219</td>\n",
       "      <td>S32_2509</td>\n",
       "    </tr>\n",
       "    <tr>\n",
       "      <th>1</th>\n",
       "      <td>Leslie</td>\n",
       "      <td>Thompson</td>\n",
       "      <td>West Coast Collectables Co.</td>\n",
       "      <td>475</td>\n",
       "      <td>10215</td>\n",
       "      <td>S24_4258</td>\n",
       "    </tr>\n",
       "    <tr>\n",
       "      <th>2</th>\n",
       "      <td>Julie</td>\n",
       "      <td>Firrelli</td>\n",
       "      <td>Diecast Collectables</td>\n",
       "      <td>495</td>\n",
       "      <td>10243</td>\n",
       "      <td>S24_1937</td>\n",
       "    </tr>\n",
       "    <tr>\n",
       "      <th>3</th>\n",
       "      <td>Steve</td>\n",
       "      <td>Patterson</td>\n",
       "      <td>FunGiftIdeas.com</td>\n",
       "      <td>462</td>\n",
       "      <td>10388</td>\n",
       "      <td>S700_2834</td>\n",
       "    </tr>\n",
       "    <tr>\n",
       "      <th>4</th>\n",
       "      <td>Foon Yue</td>\n",
       "      <td>Tseng</td>\n",
       "      <td>Microscale Inc.</td>\n",
       "      <td>456</td>\n",
       "      <td>10319</td>\n",
       "      <td>S50_4713</td>\n",
       "    </tr>\n",
       "    <tr>\n",
       "      <th>5</th>\n",
       "      <td>George</td>\n",
       "      <td>Vanauf</td>\n",
       "      <td>Motor Mint Distributors Inc.</td>\n",
       "      <td>486</td>\n",
       "      <td>10331</td>\n",
       "      <td>S50_4713</td>\n",
       "    </tr>\n",
       "    <tr>\n",
       "      <th>6</th>\n",
       "      <td>Loui</td>\n",
       "      <td>Bondur</td>\n",
       "      <td>Auto Canal+ Petit</td>\n",
       "      <td>406</td>\n",
       "      <td>10402</td>\n",
       "      <td>S24_2000</td>\n",
       "    </tr>\n",
       "    <tr>\n",
       "      <th>7</th>\n",
       "      <td>Gerard</td>\n",
       "      <td>Hernandez</td>\n",
       "      <td>Auto Associés &amp; Cie.</td>\n",
       "      <td>256</td>\n",
       "      <td>10304</td>\n",
       "      <td>S700_2824</td>\n",
       "    </tr>\n",
       "    <tr>\n",
       "      <th>8</th>\n",
       "      <td>Pamela</td>\n",
       "      <td>Castillo</td>\n",
       "      <td>Frau da Collezione</td>\n",
       "      <td>473</td>\n",
       "      <td>10218</td>\n",
       "      <td>S18_3232</td>\n",
       "    </tr>\n",
       "    <tr>\n",
       "      <th>9</th>\n",
       "      <td>Larry</td>\n",
       "      <td>Bott</td>\n",
       "      <td>Double Decker Gift Stores, Ltd</td>\n",
       "      <td>489</td>\n",
       "      <td>10213</td>\n",
       "      <td>S24_2887</td>\n",
       "    </tr>\n",
       "    <tr>\n",
       "      <th>10</th>\n",
       "      <td>Barry</td>\n",
       "      <td>Jones</td>\n",
       "      <td>Scandinavian Gift Ideas</td>\n",
       "      <td>448</td>\n",
       "      <td>10389</td>\n",
       "      <td>S24_2000</td>\n",
       "    </tr>\n",
       "    <tr>\n",
       "      <th>11</th>\n",
       "      <td>Andy</td>\n",
       "      <td>Fixter</td>\n",
       "      <td>Australian Collectables, Ltd</td>\n",
       "      <td>471</td>\n",
       "      <td>10415</td>\n",
       "      <td>S72_1253</td>\n",
       "    </tr>\n",
       "    <tr>\n",
       "      <th>12</th>\n",
       "      <td>Peter</td>\n",
       "      <td>Marsh</td>\n",
       "      <td>Kelly's Gift Shop</td>\n",
       "      <td>496</td>\n",
       "      <td>10399</td>\n",
       "      <td>S32_1374</td>\n",
       "    </tr>\n",
       "    <tr>\n",
       "      <th>13</th>\n",
       "      <td>Mami</td>\n",
       "      <td>Nishi</td>\n",
       "      <td>Tokyo Collectables, Ltd</td>\n",
       "      <td>398</td>\n",
       "      <td>10408</td>\n",
       "      <td>S24_3969</td>\n",
       "    </tr>\n",
       "    <tr>\n",
       "      <th>14</th>\n",
       "      <td>Martin</td>\n",
       "      <td>Gerard</td>\n",
       "      <td>Iberia Gift Imports, Corp.</td>\n",
       "      <td>484</td>\n",
       "      <td>10303</td>\n",
       "      <td>S24_3969</td>\n",
       "    </tr>\n",
       "  </tbody>\n",
       "</table>\n",
       "</div>"
      ],
      "text/plain": [
       "   Emp_Fname  Emp_Lname                    customerName customerNumber  \\\n",
       "0     Leslie   Jennings        Signal Collectibles Ltd.            487   \n",
       "1     Leslie   Thompson     West Coast Collectables Co.            475   \n",
       "2      Julie   Firrelli            Diecast Collectables            495   \n",
       "3      Steve  Patterson                FunGiftIdeas.com            462   \n",
       "4   Foon Yue      Tseng                 Microscale Inc.            456   \n",
       "5     George     Vanauf    Motor Mint Distributors Inc.            486   \n",
       "6       Loui     Bondur               Auto Canal+ Petit            406   \n",
       "7     Gerard  Hernandez            Auto Associés & Cie.            256   \n",
       "8     Pamela   Castillo              Frau da Collezione            473   \n",
       "9      Larry       Bott  Double Decker Gift Stores, Ltd            489   \n",
       "10     Barry      Jones         Scandinavian Gift Ideas            448   \n",
       "11      Andy     Fixter    Australian Collectables, Ltd            471   \n",
       "12     Peter      Marsh               Kelly's Gift Shop            496   \n",
       "13      Mami      Nishi         Tokyo Collectables, Ltd            398   \n",
       "14    Martin     Gerard      Iberia Gift Imports, Corp.            484   \n",
       "\n",
       "   orderNumber productCode  \n",
       "0        10219    S32_2509  \n",
       "1        10215    S24_4258  \n",
       "2        10243    S24_1937  \n",
       "3        10388   S700_2834  \n",
       "4        10319    S50_4713  \n",
       "5        10331    S50_4713  \n",
       "6        10402    S24_2000  \n",
       "7        10304   S700_2824  \n",
       "8        10218    S18_3232  \n",
       "9        10213    S24_2887  \n",
       "10       10389    S24_2000  \n",
       "11       10415    S72_1253  \n",
       "12       10399    S32_1374  \n",
       "13       10408    S24_3969  \n",
       "14       10303    S24_3969  "
      ]
     },
     "execution_count": 51,
     "metadata": {},
     "output_type": "execute_result"
    }
   ],
   "source": [
    "run_sql('''SELECT e.firstName as Emp_Fname, e.lastName as Emp_Lname, \n",
    "                    c.customerName, c.customerNumber,\n",
    "                    o.orderNumber, d.productCode\n",
    "                    FROM employees e\n",
    "                      JOIN customers c\n",
    "                      ON e.employeeNumber = c.salesRepEmployeeNumber\n",
    "                      JOIN orders o\n",
    "                      ON c.customerNumber = o.customerNumber\n",
    "                      JOIN orderdetails d\n",
    "                      ON o.orderNumber = d.orderNumber\n",
    "                      JOIN products p\n",
    "                      ON \n",
    "                      GROUP BY e.employeeNumber''')"
   ]
  },
  {
   "cell_type": "markdown",
   "metadata": {},
   "source": [
    "## Level Up: Display the Number of Products each Employee Has sold"
   ]
  },
  {
   "cell_type": "code",
   "execution_count": null,
   "metadata": {},
   "outputs": [],
   "source": [
    "#Your code here"
   ]
  },
  {
   "cell_type": "markdown",
   "metadata": {},
   "source": [
    "## Summary"
   ]
  },
  {
   "cell_type": "markdown",
   "metadata": {},
   "source": [
    "Congrats! You now know how to use Join statements, along with leveraging your foreign keys knowledge!"
   ]
  }
 ],
 "metadata": {
  "kernelspec": {
   "display_name": "Python 3",
   "language": "python",
   "name": "python3"
  },
  "language_info": {
   "codemirror_mode": {
    "name": "ipython",
    "version": 3
   },
   "file_extension": ".py",
   "mimetype": "text/x-python",
   "name": "python",
   "nbconvert_exporter": "python",
   "pygments_lexer": "ipython3",
   "version": "3.7.0"
  }
 },
 "nbformat": 4,
 "nbformat_minor": 2
}
